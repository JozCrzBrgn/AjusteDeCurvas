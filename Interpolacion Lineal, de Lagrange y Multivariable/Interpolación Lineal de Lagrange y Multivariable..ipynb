{
 "cells": [
  {
   "cell_type": "markdown",
   "metadata": {},
   "source": [
    "# *INTERPOLACIÓN LINEAL, DE LAGRANGE Y MULTI VARIABLE*"
   ]
  },
  {
   "cell_type": "markdown",
   "metadata": {},
   "source": [
    "## 1) INTERPOLACIÓN LINEAL"
   ]
  },
  {
   "cell_type": "markdown",
   "metadata": {},
   "source": [
    "## A) DEMOSTRACIÓN GEOMÉTRICA."
   ]
  },
  {
   "cell_type": "markdown",
   "metadata": {},
   "source": [
    "#### La forma más simple de interpolacion es la llamada Intrerpolación Lineal. Este tipo de interpolación consiste en unir dos puntos asociados con datos con una linea recta como se muestra en la figura:"
   ]
  },
  {
   "cell_type": "markdown",
   "metadata": {},
   "source": [
    "![DemoLineal](https://user-images.githubusercontent.com/47722525/78728244-75b35480-78fc-11ea-9557-e824e2a3a310.png)"
   ]
  },
  {
   "cell_type": "markdown",
   "metadata": {},
   "source": [
    "## B) FÓRMULA MATEMÁTICA."
   ]
  },
  {
   "cell_type": "markdown",
   "metadata": {},
   "source": [
    "![FormInterLin](https://user-images.githubusercontent.com/47722525/78728864-22420600-78fe-11ea-9657-2a58222b41f1.png)"
   ]
  },
  {
   "cell_type": "markdown",
   "metadata": {},
   "source": [
    "## C) DIAGRAMA DE FLUJO DE LA INTERPOLACIÓN LINEAL."
   ]
  },
  {
   "cell_type": "markdown",
   "metadata": {},
   "source": [
    "![DF_Lineal](https://user-images.githubusercontent.com/47722525/78728903-3b4ab700-78fe-11ea-801c-5315a2d3d883.png)"
   ]
  },
  {
   "cell_type": "markdown",
   "metadata": {},
   "source": [
    "## D) PROGRAMACIÓN DE LA INTERPOLACIÓN LINEAL."
   ]
  },
  {
   "cell_type": "code",
   "execution_count": 1,
   "metadata": {},
   "outputs": [],
   "source": [
    "# Función\n",
    "def Inter_Lineal(xo,x1,yo,y1,xx):\n",
    "    '''\n",
    "    (xo,x1,yo,y1,xx) -> Interpolación\n",
    "    \n",
    "    Devuelve la interpolación lineal dados dos puntos.\n",
    "\n",
    "    Inputs:\n",
    "    (xo,yo) = Coordenadas del primer punto.\n",
    "    (x1,y1) = Coordenadas del segundo punto.\n",
    "    xx = valor que se quiere estimar.\n",
    "    \n",
    "    Output:\n",
    "    Valor estimado en la interpolación.\n",
    "    \n",
    "    Programó:\n",
    "    Ing. Josue Emmanuel Cruz Barragan\n",
    "    '''\n",
    "    m1 = ((xx-x1)/(xo-x1))\n",
    "    m2 = ((xx-xo)/(x1-xo))\n",
    "    return m1*yo + m2*y1"
   ]
  },
  {
   "cell_type": "markdown",
   "metadata": {},
   "source": [
    "## E) APLICACIÓN DE LA INTERPOLACIÓN LINEAL A LA HIDRÁULICA."
   ]
  },
  {
   "cell_type": "markdown",
   "metadata": {},
   "source": [
    "### EJEMPLO 1.- CONCENTRACIÓN DE OXÍGENO."
   ]
  },
  {
   "cell_type": "markdown",
   "metadata": {},
   "source": [
    "### _Los siguentes datos definen la concentración de oxígeno disuelto a nivel del mar para agua dulce como función de la temperatura:_"
   ]
  },
  {
   "cell_type": "markdown",
   "metadata": {},
   "source": [
    "|  T, °C | O, mg/L|\n",
    "|:------:|:------:|\n",
    "|  0     | 14.621 |\n",
    "|  8     | 11.483 |\n",
    "|  16    |  9.870 |\n",
    "|  24    |  8.418 |\n",
    "|  32    |  7.305 |\n",
    "|  40    |  6.413 |"
   ]
  },
  {
   "cell_type": "markdown",
   "metadata": {},
   "source": [
    "### _Estime o(27°C) usando interpolación lineal. El resultado exacto es 7.986 mg/L._"
   ]
  },
  {
   "cell_type": "markdown",
   "metadata": {},
   "source": [
    "### SOLUCIÓN."
   ]
  },
  {
   "cell_type": "markdown",
   "metadata": {},
   "source": [
    "### a) Datos:"
   ]
  },
  {
   "cell_type": "code",
   "execution_count": 3,
   "metadata": {},
   "outputs": [],
   "source": [
    "xo = 24    # \n",
    "yo = 8.418 ## Coordenadas del primer punto\n",
    "\n",
    "x1 = 32    #\n",
    "y1 = 7.305 ## Coordenadas del segundo punto\n",
    "\n",
    "xx = 27    # Valor a estimar"
   ]
  },
  {
   "cell_type": "markdown",
   "metadata": {},
   "source": [
    "### b) Resultados:"
   ]
  },
  {
   "cell_type": "code",
   "execution_count": 4,
   "metadata": {},
   "outputs": [
    {
     "name": "stdout",
     "output_type": "stream",
     "text": [
      "La concentración de oxigeno para una temperatura de 27° es: 8.000625 mg/L\n",
      "Esta aproximación tiene un error del: 0.183 % con respecto al valor real de 7.986 mg/L\n"
     ]
    }
   ],
   "source": [
    "o_27 = Inter_Lineal(xo,x1,yo,y1,xx)\n",
    "err = round(abs((7.986-o_27)*100/7.986),3)\n",
    "print('La concentración de oxigeno para una temperatura de 27° es:',o_27,'mg/L')\n",
    "print('Esta aproximación tiene un error del:',err, '% con respecto al valor real de 7.986 mg/L')"
   ]
  },
  {
   "cell_type": "markdown",
   "metadata": {},
   "source": [
    "## 2) INTERPOLACIÓN DE LAGRANGE"
   ]
  },
  {
   "cell_type": "markdown",
   "metadata": {},
   "source": [
    "## A) DEDUCCIÓN."
   ]
  },
  {
   "cell_type": "markdown",
   "metadata": {},
   "source": [
    "![DemoLagrange](https://user-images.githubusercontent.com/47722525/78729089-b90ec280-78fe-11ea-919c-e25440a275bb.png)"
   ]
  },
  {
   "cell_type": "markdown",
   "metadata": {},
   "source": [
    "## B) FÓRMULA MATEMÁTICA."
   ]
  },
  {
   "cell_type": "markdown",
   "metadata": {},
   "source": [
    "![FormLagrange](https://user-images.githubusercontent.com/47722525/78729124-d5aafa80-78fe-11ea-8a10-a9b851fbe93b.png)"
   ]
  },
  {
   "cell_type": "markdown",
   "metadata": {},
   "source": [
    "## C) DIAGRAMA DE FLUJO DE LA INTERPOLACIÓN DE LAGRANGE."
   ]
  },
  {
   "cell_type": "markdown",
   "metadata": {},
   "source": [
    "![DiagFlujo](https://user-images.githubusercontent.com/47722525/78729165-f5dab980-78fe-11ea-948c-ec1ab4a37ca4.png)"
   ]
  },
  {
   "cell_type": "markdown",
   "metadata": {},
   "source": [
    "## D) PROGRAMACIÓN DE LA INTERPOLACIÓN DE LAGRANGE."
   ]
  },
  {
   "cell_type": "code",
   "execution_count": 7,
   "metadata": {},
   "outputs": [],
   "source": [
    "def Inter_Lagrange(X,Y,xx):\n",
    "    '''\n",
    "    (X,Y,xx) -> Interpolación\n",
    "    \n",
    "    Devuelve el valor estimado usando interpolación de lagrange dados \"n\" puntos.\n",
    "\n",
    "    Inputs:\n",
    "    X = Vector de abcisas.\n",
    "    Y = Vector de odenadas.\n",
    "    xx = valor que se quiere estimar.\n",
    "    \n",
    "    Output:\n",
    "    Valor estimado en la interpolación.\n",
    "    \n",
    "    Programó:\n",
    "    Ing. Josue Emmanuel Cruz Barragan\n",
    "    '''\n",
    "    n = len(X)\n",
    "    suma = 0\n",
    "    for i in range(n):\n",
    "        Lag = Y[i]\n",
    "        for j in range(n):\n",
    "            if i!=j:\n",
    "                Lag = Lag*(xx-X[j])/(X[i]-X[j])\n",
    "        suma += Lag\n",
    "    return suma"
   ]
  },
  {
   "cell_type": "markdown",
   "metadata": {},
   "source": [
    "## E) APLICACIÓN DE LA INTERPOLACIÓN LINEAL A LA HIDRÁULICA."
   ]
  },
  {
   "cell_type": "markdown",
   "metadata": {},
   "source": [
    "### EJEMPLO 2.- CONCENTRACIÓN DE OXÍGENO."
   ]
  },
  {
   "cell_type": "markdown",
   "metadata": {},
   "source": [
    "### _Resuelva el ejercicio 1 usando interpolación de Lagrange._"
   ]
  },
  {
   "cell_type": "markdown",
   "metadata": {},
   "source": [
    "### SOLUCIÓN."
   ]
  },
  {
   "cell_type": "markdown",
   "metadata": {},
   "source": [
    "### a) Datos:"
   ]
  },
  {
   "cell_type": "code",
   "execution_count": 8,
   "metadata": {},
   "outputs": [],
   "source": [
    "X = [0,8,16,24,32,40]\n",
    "Y = [14.621,11.483,9.870,8.418,7.305,6.413]\n",
    "xx = 27 # Valor a estimar"
   ]
  },
  {
   "cell_type": "markdown",
   "metadata": {},
   "source": [
    "### b) Resultados:"
   ]
  },
  {
   "cell_type": "code",
   "execution_count": 9,
   "metadata": {},
   "outputs": [
    {
     "name": "stdout",
     "output_type": "stream",
     "text": [
      "La concentración de oxigeno para una temperatura de 27° es: 7.942 mg/L\n",
      "Esta aproximación tiene un error del: 0.551 % con respecto al valor real de 7.986 mg/L\n"
     ]
    }
   ],
   "source": [
    "o_27L = round(Inter_Lagrange(X,Y,xx),3)\n",
    "err = round(abs((7.986-o_27L)*100/7.986),3)\n",
    "print('La concentración de oxigeno para una temperatura de 27° es:',o_27L,'mg/L')\n",
    "print('Esta aproximación tiene un error del:',err, '% con respecto al valor real de 7.986 mg/L')"
   ]
  },
  {
   "cell_type": "markdown",
   "metadata": {},
   "source": [
    "### c) Gráfica:"
   ]
  },
  {
   "cell_type": "code",
   "execution_count": 11,
   "metadata": {},
   "outputs": [
    {
     "data": {
      "image/png": "[encoded data removed]",
      "text/plain": [
       "<Figure size 432x288 with 1 Axes>"
      ]
     },
     "metadata": {
      "needs_background": "light"
     },
     "output_type": "display_data"
    }
   ],
   "source": [
    "import matplotlib.pyplot as plt\n",
    "import numpy as np\n",
    "plt.title(u'Comparación: interpolación Lineal y Lagrange ') # Figure\n",
    "datos = [o_27,o_27L]\n",
    "X = np.arange(2)\n",
    "plt.bar(X, datos, color = \"b\")\n",
    "plt.xticks(X, [\"Lineal\",\"Lagrange\"])\n",
    "plt.show()"
   ]
  },
  {
   "cell_type": "markdown",
   "metadata": {},
   "source": [
    "#### Donde observamos que ambos valores varían muy poco."
   ]
  },
  {
   "cell_type": "markdown",
   "metadata": {},
   "source": [
    "## 3) INTERPOLACIÓN MULTIDIMENSIONAL(USANDO FUNCIÓN LINEAL Y POLINOMINAL)."
   ]
  },
  {
   "cell_type": "markdown",
   "metadata": {},
   "source": [
    "### La interpolacion bidimencional sirve para determinar valores intermedios para funciones de dos variables, z = f(xi, yi) si se tienen valores de cuatro  puntos : f(x2,y1), f(x1,y2) y f(x2, y2) se desea interpolar entre estos puntos para estimar el valor de un punto intermedio f(xi,yi). "
   ]
  },
  {
   "cell_type": "markdown",
   "metadata": {},
   "source": [
    "## 3a) INTERPOLACIÓN BILINEAL."
   ]
  },
  {
   "cell_type": "markdown",
   "metadata": {},
   "source": [
    "## A) DEMOSTRACIÓN GEOMÉTRICA."
   ]
  },
  {
   "cell_type": "markdown",
   "metadata": {},
   "source": [
    "### Si se usa una función lineal, el resultado es un plano que conecta los puntos como en la siguiente figura:"
   ]
  },
  {
   "cell_type": "markdown",
   "metadata": {},
   "source": [
    "![FigBil](https://user-images.githubusercontent.com/47722525/78729431-a052dc80-78ff-11ea-8c5e-70c59837fd41.png)"
   ]
  },
  {
   "cell_type": "markdown",
   "metadata": {},
   "source": [
    "### tales funciones se conocen como bilineales. En la siguiente figura se ilustra una forma sencilla de desarrollar la función bilianeal:"
   ]
  },
  {
   "cell_type": "markdown",
   "metadata": {},
   "source": [
    "![FigBilPlano](https://user-images.githubusercontent.com/47722525/78729472-bf516e80-78ff-11ea-8e5e-0a2b274f4787.png)"
   ]
  },
  {
   "cell_type": "markdown",
   "metadata": {},
   "source": [
    "![FigBilinealFinal](https://user-images.githubusercontent.com/47722525/78729501-d6905c00-78ff-11ea-87b8-3e85cacf8c17.png)"
   ]
  },
  {
   "cell_type": "markdown",
   "metadata": {},
   "source": [
    "## B) FÓRMULA MATEMÁTICA."
   ]
  },
  {
   "cell_type": "markdown",
   "metadata": {},
   "source": [
    "![Ecuacion_Bilineal](https://user-images.githubusercontent.com/47722525/78729557-f45dc100-78ff-11ea-9de7-f53da21e1856.png)"
   ]
  },
  {
   "cell_type": "markdown",
   "metadata": {},
   "source": [
    "## C) DIAGRAMA DE FLUJO DEL LA ECUACIÓN BILINEAL (USANDO POLINOMIO DE LAGANGE DE PRIMER GRADO)."
   ]
  },
  {
   "cell_type": "markdown",
   "metadata": {},
   "source": [
    "![Diag_Flujo_Bilineal](https://user-images.githubusercontent.com/47722525/78729594-10f9f900-7900-11ea-9164-0544de4ac5da.png)"
   ]
  },
  {
   "cell_type": "markdown",
   "metadata": {},
   "source": [
    "## D) APLICACIÓN DE LA INTERPOLACIÓN BILINEAL."
   ]
  },
  {
   "cell_type": "markdown",
   "metadata": {},
   "source": [
    "### EJEMPLO 3.- ESTIMACIÓN DE LA TEMPERATURA EN UN PUNTO DE UNA PLACA CALENTADA."
   ]
  },
  {
   "cell_type": "markdown",
   "metadata": {},
   "source": [
    "### _Se miden temperaturas en varios puntos de una placa calentada. Estime la temperatura en x = 4.3, y = 2.7. La tabla de temperaturas es la que se muestra:_"
   ]
  },
  {
   "cell_type": "markdown",
   "metadata": {},
   "source": [
    "|   Y/X  |  x = 0 |  x = 2 | x = 4 | x = 6 | x = 8 |\n",
    "|:------:|:------:|:------:|:-----:|:-----:|:-----:|\n",
    "|  y = 0 | 100.00 |  90.00 | 80.00 | 70.00 | 60.00 |\n",
    "|  y = 2 |  85.00 |  64.49 | 53.50 | 48.15 | 50.00 |\n",
    "|  y = 4 |  70.00 |  48.90 | 38.43 | 35.03 | 40.00 |\n",
    "|  y = 6 |  55.00 |  38.78 | 30.39 | 27.07 | 30.00 |\n",
    "|  y = 8 |  40.00 |  35.00 | 30.00 | 25.00 | 20.00 |"
   ]
  },
  {
   "cell_type": "markdown",
   "metadata": {},
   "source": [
    "### SOLUCIÓN."
   ]
  },
  {
   "cell_type": "markdown",
   "metadata": {},
   "source": [
    "### a) Datos:"
   ]
  },
  {
   "cell_type": "markdown",
   "metadata": {},
   "source": [
    "#### Seleccionamos los puntos mas cercanos al punto (4.3,2.7)"
   ]
  },
  {
   "cell_type": "code",
   "execution_count": 12,
   "metadata": {},
   "outputs": [],
   "source": [
    "x1 = 4; y1 = 2; z1 = 53.50  #\n",
    "x2 = 4; y2 = 4; z2 = 38.43  ##\n",
    "x3 = 6; y3 = 2; z3 = 48.15  ###\n",
    "x4 = 6; y4 = 4; z4 = 35.03  #### Abscisas arregladas en orden acendente junto con sus respectivas coordenadas \n",
    "\n",
    "xx = 4.30 # Valor a estimar en \"x\"\n",
    "yy = 2.70 # Valor a estimar en \"y\""
   ]
  },
  {
   "cell_type": "markdown",
   "metadata": {},
   "source": [
    "### b) Resultados:"
   ]
  },
  {
   "cell_type": "code",
   "execution_count": 13,
   "metadata": {},
   "outputs": [
    {
     "name": "stdout",
     "output_type": "stream",
     "text": [
      "La temperatura en la placa en las coordenadas (4.30, 2.70) es: 47.53 °C\n"
     ]
    }
   ],
   "source": [
    "# Interpolacion con x constante:\n",
    "x1p = Inter_Lineal(y1,y2,z1,z2,yy)\n",
    "x2p = Inter_Lineal(y3,y4,z3,z4,yy)\n",
    "\n",
    "# Interpolacion de los resultados pasados:\n",
    "zz = Inter_Lineal(x1,x3,x1p,x2p,xx)\n",
    "print('La temperatura en la placa en las coordenadas (4.30, 2.70) es:',round(zz,2),'°C')"
   ]
  },
  {
   "cell_type": "markdown",
   "metadata": {},
   "source": [
    "## 3b) INTERPOLACIÓN MULTIPLE POLINOMINAL."
   ]
  },
  {
   "cell_type": "markdown",
   "metadata": {},
   "source": [
    "### Más alla de la sencilla interpolación bilineal descrita anteriormente, tambien se pueden usar polinomios de grado más alto para interpolar en dos dimenciones, por ejemplo, usando el polinomio de lagrange."
   ]
  },
  {
   "cell_type": "markdown",
   "metadata": {},
   "source": [
    "## A) PROGRAMACIÓN DE LA INTERPOLACIÓN  MULTIPLE USANDO POLINOMIOS DE LAGRANGE (EXPANCIÓN DEL PROGRAMA DE INTERPOLACIÓN BILINEAL)."
   ]
  },
  {
   "cell_type": "code",
   "execution_count": 14,
   "metadata": {},
   "outputs": [],
   "source": [
    "# Libreria:\n",
    "import numpy as np\n",
    "\n",
    "# Función:\n",
    "def Inter_Multi_Lagrange(Vx, Vy, Mxy, xo, yo):\n",
    "    '''\n",
    "    (Vx, Vy, Mxy, xo, yo) -> Interpolación Multiple con polinomios de Lagrange.\n",
    "    \n",
    "    Devuelve el valor estimado usando interpolación multiple de lagrange dados \"n\" puntos (x,y).\n",
    "\n",
    "    Inputs:\n",
    "    Vx = Vector de abcisas.\n",
    "    Vy = Vector de odenadas.\n",
    "    Mxy = Matriz de relación z = (x,y).\n",
    "    xo,yo = Coordenada que se quiere estimar.\n",
    "    \n",
    "    Output:\n",
    "    Valor estimado en la interpolación.\n",
    "    \n",
    "    Programó:\n",
    "    Ing. Josue Emmanuel Cruz Barragan\n",
    "    '''\n",
    "    row = len(Vx)\n",
    "    YZ = np.zeros((row,2))\n",
    "    LagraYZ = []\n",
    "    for i in range(row):\n",
    "        c = -1\n",
    "        for j in range(row):\n",
    "            c+=1\n",
    "            YZ[c][0] = Vy[j]\n",
    "            YZ[c][1] = Mxy[j][i]\n",
    "        Y = YZ[:,0]\n",
    "        Z = YZ[:,1]\n",
    "        LagraYZ.append(Inter_Lagrange(Y,Z,yo))\n",
    "    return Inter_Lagrange(Vx,LagraYZ,xo)\n",
    "    "
   ]
  },
  {
   "cell_type": "markdown",
   "metadata": {},
   "source": [
    "## B) APLICACIÓN DE LA INTERPOLACIÓN MULTIPLE POLINOMINAL."
   ]
  },
  {
   "cell_type": "markdown",
   "metadata": {},
   "source": [
    "### EJEMPLO 4.- ESTIMACIÓN DE LA TEMPERATURA EN UN PUNTO DE UNA PLACA CALENTADA."
   ]
  },
  {
   "cell_type": "markdown",
   "metadata": {},
   "source": [
    "### _Resuelva el ejercicio 3 usando interpolación multiple polinominal._"
   ]
  },
  {
   "cell_type": "markdown",
   "metadata": {},
   "source": [
    "### SOLUCIÓN."
   ]
  },
  {
   "cell_type": "markdown",
   "metadata": {},
   "source": [
    "### a) Datos:"
   ]
  },
  {
   "cell_type": "code",
   "execution_count": 15,
   "metadata": {},
   "outputs": [],
   "source": [
    "# Libreria\n",
    "import numpy as np\n",
    "\n",
    "# Vector de las abscisas\n",
    "Vx = [0,2,4,6,8]\n",
    "\n",
    "# Vector de las ordenadas\n",
    "Vy = [0,2,4,6,8]\n",
    "\n",
    "# Matriz de relacion de las coordenadas de la placa con su temperatura:\n",
    "Mxy = [[100,90,80,70,60],[85,64.49,53.5,48.15,50],[70,48.9,38.43,35.03,40],[55,38.78,30.39,27.07,30],[40,35,30,25,20]]\n",
    "\n",
    "# Coordenadas donde nos intereza saber la temperatura:\n",
    "xo = 4.3\n",
    "yo = 2.7"
   ]
  },
  {
   "cell_type": "markdown",
   "metadata": {},
   "source": [
    "### b) Resultados:"
   ]
  },
  {
   "cell_type": "code",
   "execution_count": 16,
   "metadata": {},
   "outputs": [
    {
     "name": "stdout",
     "output_type": "stream",
     "text": [
      "La temperatura en la placa en las coordenadas (4.30, 2.70) es: 46.2 °C\n"
     ]
    }
   ],
   "source": [
    "imp = Inter_Multi_Lagrange(Vx, Vy, Mxy, xo, yo)\n",
    "print('La temperatura en la placa en las coordenadas (4.30, 2.70) es:',round(imp,2),'°C')"
   ]
  },
  {
   "cell_type": "markdown",
   "metadata": {},
   "source": [
    "### c) Gráfica:"
   ]
  },
  {
   "cell_type": "code",
   "execution_count": 17,
   "metadata": {},
   "outputs": [
    {
     "data": {
      "image/png": "[encoded data removed]",
      "text/plain": [
       "<Figure size 432x288 with 1 Axes>"
      ]
     },
     "metadata": {
      "needs_background": "light"
     },
     "output_type": "display_data"
    }
   ],
   "source": [
    "import matplotlib.pyplot as plt\n",
    "plt.title(u'Comparación: interpolación Bilineal y Polinominal ') # Figure\n",
    "datos = [zz,imp]\n",
    "X = np.arange(2)\n",
    "plt.bar(X, datos, color = \"b\")\n",
    "plt.xticks(X, [\"Bilineal\",\"Multiple Polinominal\"])\n",
    "plt.show()"
   ]
  },
  {
   "cell_type": "markdown",
   "metadata": {},
   "source": [
    "#### Donde observamos que ambos valores varían muy poco."
   ]
  }
 ],
 "metadata": {
  "kernelspec": {
   "display_name": "Python 3",
   "language": "python",
   "name": "python3"
  },
  "language_info": {
   "codemirror_mode": {
    "name": "ipython",
    "version": 3
   },
   "file_extension": ".py",
   "mimetype": "text/x-python",
   "name": "python",
   "nbconvert_exporter": "python",
   "pygments_lexer": "ipython3",
   "version": "3.7.0"
  }
 },
 "nbformat": 4,
 "nbformat_minor": 2
}
