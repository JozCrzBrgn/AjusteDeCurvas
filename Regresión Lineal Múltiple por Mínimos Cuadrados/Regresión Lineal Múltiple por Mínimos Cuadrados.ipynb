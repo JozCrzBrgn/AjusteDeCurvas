{
 "cells": [
  {
   "cell_type": "markdown",
   "metadata": {},
   "source": [
    "# *REGRESION LINEAL MULTIPLE POR MINIMOS CUADRADOS*"
   ]
  },
  {
   "cell_type": "markdown",
   "metadata": {},
   "source": [
    "## A) DEMOSTRACIÓN GEOMÉTRICA."
   ]
  },
  {
   "cell_type": "markdown",
   "metadata": {},
   "source": [
    "![Demo_1](https://user-images.githubusercontent.com/47722525/78722987-3252e900-78f0-11ea-8ceb-48afe615b628.png)"
   ]
  },
  {
   "cell_type": "markdown",
   "metadata": {},
   "source": [
    "![Demo_2](https://user-images.githubusercontent.com/47722525/78723052-557d9880-78f0-11ea-8fd7-c9642fd8bffb.png)"
   ]
  },
  {
   "cell_type": "markdown",
   "metadata": {},
   "source": [
    "![Demo_3](https://user-images.githubusercontent.com/47722525/78723056-57475c00-78f0-11ea-88ca-36c159df6160.png)"
   ]
  },
  {
   "cell_type": "markdown",
   "metadata": {},
   "source": [
    "## B) FÓRMULA MATEMÁTICA."
   ]
  },
  {
   "cell_type": "markdown",
   "metadata": {},
   "source": [
    "![MatForm](https://user-images.githubusercontent.com/47722525/78723140-8362dd00-78f0-11ea-9c6c-8ff0638841b2.png)"
   ]
  },
  {
   "cell_type": "markdown",
   "metadata": {},
   "source": [
    "## C) PROGRAMACIÓN PARA LA REGRESION LINEAL POR MINIMOS CUADRADOS EN HIDROLOGÍA."
   ]
  },
  {
   "cell_type": "code",
   "execution_count": 3,
   "metadata": {},
   "outputs": [],
   "source": [
    "import math\n",
    "import numpy as np\n",
    "\n",
    "def RegLin_MinimosCuadrados(V_duracion, M_intencidades):\n",
    "    \n",
    "    Sum_N = 0\n",
    "    Sum_X1 = 0\n",
    "    Sum_X2 = 0\n",
    "    Sum_Y = 0\n",
    "    Sum_X1Y = 0\n",
    "    Sum_X2Y = 0\n",
    "    Sum_X1X2 = 0\n",
    "    Sum_X12 = 0\n",
    "    Sum_X22 = 0\n",
    "    \n",
    "    for j in range(len(V_duracion)):\n",
    "        \n",
    "        # Vector de intencidades a evaluar:\n",
    "        M_intencidades[j].sort(reverse=True)\n",
    "\n",
    "        # Número de datos en el vector de intencidades:\n",
    "        N = len(M_intencidades[j])\n",
    "\n",
    "        # Vector de número de muestras:\n",
    "        Vector_muestras = [i+1 for i in range(N)]\n",
    "\n",
    "        # Vector de periodos de retorno:\n",
    "        Vector_Tr = [(Vector_muestras[-1]+1)/Vector_muestras[i] for i in range(N)]\n",
    "\n",
    "        # Vector de duración:\n",
    "        Vector_d = [V_duracion[j]]*N\n",
    "\n",
    "        # Vectores del Metodo de RLMC:\n",
    "        Vec_x1 = [math.log10(Vector_Tr[i]) for i in range(N)]\n",
    "        Vec_x2 = [math.log10(Vector_d[i]) for  i in range(N)]\n",
    "        Vec_y = [math.log10(M_intencidades[j][i]) for i in range(N)]\n",
    "        Vec_x1y = [Vec_x1[i]*Vec_y[i] for i in range(N)]\n",
    "        Vec_x2y = [Vec_x2[i]*Vec_y[i] for i in range(N)]\n",
    "        Vec_x1x2 = [Vec_x1[i]*Vec_x2[i] for i in range(N)]\n",
    "        Vec_x12 = [Vec_x1[i]**2 for i in range(N)]\n",
    "        Vec_x22 = [Vec_x2[i]**2 for i in range(N)]\n",
    "\n",
    "        Sum_N += N\n",
    "        Sum_X1 += sum(Vec_x1)\n",
    "        Sum_X2 += sum(Vec_x2)\n",
    "        Sum_Y += sum(Vec_y)\n",
    "        Sum_X1Y += sum(Vec_x1y)\n",
    "        Sum_X2Y += sum(Vec_x2y)\n",
    "        Sum_X1X2 += sum(Vec_x1x2)\n",
    "        Sum_X12 += sum(Vec_x12)\n",
    "        Sum_X22 += sum(Vec_x22)\n",
    "        \n",
    "    A = np.array([[Sum_N,Sum_X1,Sum_X2],[Sum_X1,Sum_X12,Sum_X1X2],[Sum_X2,Sum_X1X2,Sum_X22]])\n",
    "    B = np.array([[Sum_Y],[Sum_X1Y],[Sum_X2Y]])\n",
    "    [a0,a1,a2] = np.linalg.solve(A, B) \n",
    "        \n",
    "    return float(a0),float(a1),float(a2)\n",
    "\n",
    "def Intencidad(a0,a1,a2,Tr,d):\n",
    "    k = 10**a0\n",
    "    m = a1\n",
    "    n = -a2\n",
    "    return (k*Tr**m)/(d**n)"
   ]
  },
  {
   "cell_type": "markdown",
   "metadata": {},
   "source": [
    "## D) APLICACIÓN DE LA REGRESION LINEAL MULTIPLE POR MINIMOS CUADRADOS."
   ]
  },
  {
   "cell_type": "markdown",
   "metadata": {},
   "source": [
    "### <font color='blue'>EJEMPLO 1.- INTENSIDAD DE LLUVIA.</font>"
   ]
  },
  {
   "cell_type": "markdown",
   "metadata": {},
   "source": [
    "### _Obtener la curva de Intensidad-Duracion-Periodo de Retorno para los siguientes datos registrados atraves de un pluviometro:_"
   ]
  },
  {
   "cell_type": "markdown",
   "metadata": {},
   "source": [
    "|   Año  | 5 min  | 10 min | 20 min | 45 min | 80 min | 120 min |\n",
    "|:------:|:------:|:------:|:------:|:------:|:------:|:-------:|\n",
    "|  1954  |   96   |   54   |   28   |   14   |   10   |     7   |\n",
    "|  1955  |   96   |   48   |   44   |   27   |   26   |    24   |\n",
    "|  1956  |   150  |   93   |   60   |   33   |   19   |    13   |\n",
    "|  1957  |   90   |   66   |   43   |   25   |   19   |    15   |\n",
    "|  1959  |   68   |   41   |   28   |   13   |   11   |     8   |\n",
    "|  1960  |   118  |   70   |   54   |   27   |   16   |    11   |\n",
    "|  1961  |   85   |   43   |   21   |   9    |    5   |     4   |\n",
    "|  1962  |   162  |   111  |   62   |   51   |   45   |    40   |\n",
    "|  1963  |   92   |   60   |   35   |   27   |   17   |    15   |\n",
    "|  1964  |   120  |   105  |   53   |   25   |   14   |    10   |"
   ]
  },
  {
   "cell_type": "markdown",
   "metadata": {},
   "source": [
    "### _Todas las intensidades estan en mm/hr, se considera un periodo de retorno de 5 años y la gráfica para cada duración se trazará utilizando la siguiente formula:_"
   ]
  },
  {
   "cell_type": "markdown",
   "metadata": {},
   "source": [
    "![inten](https://user-images.githubusercontent.com/47722525/78723409-f9ffda80-78f0-11ea-9c1a-079719bbd037.png)"
   ]
  },
  {
   "cell_type": "markdown",
   "metadata": {},
   "source": [
    "### SOLUCIÓN."
   ]
  },
  {
   "cell_type": "markdown",
   "metadata": {},
   "source": [
    "### <font color='green'>a) Datos:</font>"
   ]
  },
  {
   "cell_type": "code",
   "execution_count": 27,
   "metadata": {},
   "outputs": [],
   "source": [
    "''' Periodo de Retorno '''\n",
    "Tr = 5 # Años\n",
    "\n",
    "''' Datos de duracion '''\n",
    "d5= [96,96,150,90,68,118,85,162,92,120] # mm/hr\n",
    "d10 = [54,48,93,66,41,70,43,111,60,105] # mm/hr\n",
    "d20 = [28,44,60,43,28,54,21,62,35,53] # mm/hr\n",
    "d45 = [14,27,33,25,13,27,9,51,27,25] # mm/hr\n",
    "d80 = [10,26,19,19,11,16,5,45,17,14] # mm/hr\n",
    "d120 = [7,24,13,15,8,11,4,40,15,10] # mm/hr"
   ]
  },
  {
   "cell_type": "markdown",
   "metadata": {},
   "source": [
    "### <font color='green'>b) Acomodo de datos:</font>"
   ]
  },
  {
   "cell_type": "code",
   "execution_count": 28,
   "metadata": {},
   "outputs": [],
   "source": [
    "M_int = [d5,d10,d20,d45,d80,d120]\n",
    "V_dur = [5,10,20,45,80,120]"
   ]
  },
  {
   "cell_type": "markdown",
   "metadata": {},
   "source": [
    "### <font color='green'>c) Regresión Lineal Multiple:</font>"
   ]
  },
  {
   "cell_type": "code",
   "execution_count": 29,
   "metadata": {},
   "outputs": [],
   "source": [
    "a,b,c = RegLin_MinimosCuadrados(V_dur, M_int)"
   ]
  },
  {
   "cell_type": "markdown",
   "metadata": {},
   "source": [
    "### <font color='green'>d) Cálculo de la Intencidad para diferentes duraciones:</font>"
   ]
  },
  {
   "cell_type": "markdown",
   "metadata": {},
   "source": [
    "#### Intencidad de lluvia para Tr = 5 años y d = 5 min."
   ]
  },
  {
   "cell_type": "code",
   "execution_count": 30,
   "metadata": {},
   "outputs": [
    {
     "name": "stdout",
     "output_type": "stream",
     "text": [
      "Intencidad =  157.21 mm/hr\n"
     ]
    }
   ],
   "source": [
    "Tr = 5 #años\n",
    "d = 5 #min\n",
    "I5 = Intencidad(a,b,c,Tr,d)\n",
    "print('Intencidad = ',round(I5,2),'mm/hr')"
   ]
  },
  {
   "cell_type": "markdown",
   "metadata": {},
   "source": [
    "#### Intencidad de lluvia para Tr = 5 años y d = 10 min."
   ]
  },
  {
   "cell_type": "code",
   "execution_count": 15,
   "metadata": {},
   "outputs": [
    {
     "name": "stdout",
     "output_type": "stream",
     "text": [
      "Intencidad =  98.0 mm/hr\n"
     ]
    }
   ],
   "source": [
    "Tr = 5 #años\n",
    "d = 10 #min\n",
    "I10 = Intencidad(a,b,c,Tr,d)\n",
    "print('Intencidad = ',round(I10,2),'mm/hr')"
   ]
  },
  {
   "cell_type": "markdown",
   "metadata": {},
   "source": [
    "#### Intencidad de lluvia para Tr = 5 años y d = 20 min."
   ]
  },
  {
   "cell_type": "code",
   "execution_count": 31,
   "metadata": {},
   "outputs": [
    {
     "name": "stdout",
     "output_type": "stream",
     "text": [
      "Intencidad =  61.09 mm/hr\n"
     ]
    }
   ],
   "source": [
    "Tr = 5 #años\n",
    "d = 20 #min\n",
    "I20 = Intencidad(a,b,c,Tr,d)\n",
    "print('Intencidad = ',round(I20,2),'mm/hr')"
   ]
  },
  {
   "cell_type": "markdown",
   "metadata": {},
   "source": [
    "#### Intencidad de lluvia para Tr = 5 años y d = 45 min."
   ]
  },
  {
   "cell_type": "code",
   "execution_count": 32,
   "metadata": {},
   "outputs": [
    {
     "name": "stdout",
     "output_type": "stream",
     "text": [
      "Intencidad =  35.14 mm/hr\n"
     ]
    }
   ],
   "source": [
    "Tr = 5 #años\n",
    "d = 45 #min\n",
    "I45 = Intencidad(a,b,c,Tr,d)\n",
    "print('Intencidad = ',round(I45,2),'mm/hr')"
   ]
  },
  {
   "cell_type": "markdown",
   "metadata": {},
   "source": [
    "#### Intencidad de lluvia para Tr = 5 años y d = 60 min."
   ]
  },
  {
   "cell_type": "code",
   "execution_count": 33,
   "metadata": {},
   "outputs": [
    {
     "name": "stdout",
     "output_type": "stream",
     "text": [
      "Intencidad =  28.88 mm/hr\n"
     ]
    }
   ],
   "source": [
    "Tr = 5 #años\n",
    "d = 60 #min\n",
    "I80 = Intencidad(a,b,c,Tr,d)\n",
    "print('Intencidad = ',round(I80,2),'mm/hr')"
   ]
  },
  {
   "cell_type": "markdown",
   "metadata": {},
   "source": [
    "#### Intencidad de lluvia para Tr = 5 años y d = 120 min."
   ]
  },
  {
   "cell_type": "code",
   "execution_count": 34,
   "metadata": {},
   "outputs": [
    {
     "name": "stdout",
     "output_type": "stream",
     "text": [
      "Intencidad =  18.01 mm/hr\n"
     ]
    }
   ],
   "source": [
    "Tr = 5 #años\n",
    "d = 120 #min\n",
    "I120 = Intencidad(a,b,c,Tr,d)\n",
    "print('Intencidad = ',round(I120,2),'mm/hr')"
   ]
  },
  {
   "cell_type": "markdown",
   "metadata": {},
   "source": [
    "### <font color='green'>e) Gráfica de resultados:</font>"
   ]
  },
  {
   "cell_type": "code",
   "execution_count": 35,
   "metadata": {},
   "outputs": [
    {
     "data": {
      "image/png": "[encoded data removed]",
      "text/plain": [
       "<Figure size 720x360 with 1 Axes>"
      ]
     },
     "metadata": {
      "needs_background": "light"
     },
     "output_type": "display_data"
    }
   ],
   "source": [
    "import matplotlib.pyplot as plt\n",
    "\n",
    "fig = plt.figure(u'Gráfica de barras',figsize=(10,5)) # Figure\n",
    "ax = fig.add_subplot(111) # Axes\n",
    "\n",
    "nombres = ['5 min','10 min','20 min','45 min','80 min','120 min']\n",
    "datos = [I5,I10,I20,I45,I80,I120]\n",
    "xx = range(len(datos))\n",
    "\n",
    "ax.bar(xx, datos, width=0.8, align='center')\n",
    "ax.set_xticks(xx)\n",
    "ax.set_xticklabels(nombres)\n",
    "plt.title('Gráfica Intencidad-duracion-Periodo de Retorno')\n",
    "plt.ylabel('Intencidades en mm/hr')\n",
    "plt.text(3, 80, 'Tr = 5 años')\n",
    "plt.show()"
   ]
  }
 ],
 "metadata": {
  "kernelspec": {
   "display_name": "Python 3",
   "language": "python",
   "name": "python3"
  },
  "language_info": {
   "codemirror_mode": {
    "name": "ipython",
    "version": 3
   },
   "file_extension": ".py",
   "mimetype": "text/x-python",
   "name": "python",
   "nbconvert_exporter": "python",
   "pygments_lexer": "ipython3",
   "version": "3.7.0"
  }
 },
 "nbformat": 4,
 "nbformat_minor": 2
}
